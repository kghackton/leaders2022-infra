{
 "cells": [
  {
   "cell_type": "code",
   "execution_count": 1,
   "metadata": {},
   "outputs": [],
   "source": [
    "import pandas as pd\n",
    "import sqlalchemy"
   ]
  },
  {
   "cell_type": "code",
   "execution_count": 2,
   "metadata": {},
   "outputs": [],
   "source": [
    "path = './data.json'\n",
    "\n",
    "def read_dataset() -> pd.DataFrame:\n",
    "    return pd.read_json(path, encoding='windows-1251')"
   ]
  },
  {
   "cell_type": "code",
   "execution_count": 3,
   "metadata": {},
   "outputs": [],
   "source": [
    "df = read_dataset()"
   ]
  },
  {
   "cell_type": "code",
   "execution_count": 4,
   "metadata": {},
   "outputs": [
    {
     "data": {
      "text/html": [
       "<div>\n",
       "<style scoped>\n",
       "    .dataframe tbody tr th:only-of-type {\n",
       "        vertical-align: middle;\n",
       "    }\n",
       "\n",
       "    .dataframe tbody tr th {\n",
       "        vertical-align: top;\n",
       "    }\n",
       "\n",
       "    .dataframe thead th {\n",
       "        text-align: right;\n",
       "    }\n",
       "</style>\n",
       "<table border=\"1\" class=\"dataframe\">\n",
       "  <thead>\n",
       "    <tr style=\"text-align: right;\">\n",
       "      <th></th>\n",
       "      <th>global_id</th>\n",
       "      <th>OBJ_TYPE</th>\n",
       "      <th>OnTerritoryOfMoscow</th>\n",
       "      <th>ADDRESS</th>\n",
       "      <th>SIMPLE_ADDRESS</th>\n",
       "      <th>UNOM</th>\n",
       "      <th>P0</th>\n",
       "      <th>P1</th>\n",
       "      <th>P2</th>\n",
       "      <th>P5</th>\n",
       "      <th>...</th>\n",
       "      <th>STATUS</th>\n",
       "      <th>geoData</th>\n",
       "      <th>geodata_center</th>\n",
       "      <th>L3_TYPE</th>\n",
       "      <th>L2_TYPE</th>\n",
       "      <th>P4</th>\n",
       "      <th>P6</th>\n",
       "      <th>P3</th>\n",
       "      <th>P90</th>\n",
       "      <th>P91</th>\n",
       "    </tr>\n",
       "  </thead>\n",
       "  <tbody>\n",
       "    <tr>\n",
       "      <th>0</th>\n",
       "      <td>645622141</td>\n",
       "      <td>Здание</td>\n",
       "      <td>да</td>\n",
       "      <td>Российская Федерация, город Москва, внутригоро...</td>\n",
       "      <td>Косинская улица, дом 26А</td>\n",
       "      <td>2102436</td>\n",
       "      <td>Российская Федерация</td>\n",
       "      <td>город Москва</td>\n",
       "      <td>внутригородская территория муниципальный округ...</td>\n",
       "      <td>муниципальный округ Вешняки</td>\n",
       "      <td>...</td>\n",
       "      <td>Внесён в ГКН</td>\n",
       "      <td>{'coordinates': [[[37.8279504545784, 55.717660...</td>\n",
       "      <td>{'coordinates': [37.8281893944955, 55.71748278...</td>\n",
       "      <td>NaN</td>\n",
       "      <td>NaN</td>\n",
       "      <td>NaN</td>\n",
       "      <td>NaN</td>\n",
       "      <td>NaN</td>\n",
       "      <td>NaN</td>\n",
       "      <td>NaN</td>\n",
       "    </tr>\n",
       "    <tr>\n",
       "      <th>1</th>\n",
       "      <td>645622142</td>\n",
       "      <td>Здание</td>\n",
       "      <td>да</td>\n",
       "      <td>Российская Федерация, город Москва, внутригоро...</td>\n",
       "      <td>Гороховский переулок, дом 21</td>\n",
       "      <td>5783</td>\n",
       "      <td>Российская Федерация</td>\n",
       "      <td>город Москва</td>\n",
       "      <td>внутригородская территория муниципальный округ...</td>\n",
       "      <td>муниципальный округ Басманный</td>\n",
       "      <td>...</td>\n",
       "      <td>Внесён в ГКН</td>\n",
       "      <td>{'coordinates': [[[37.6682995208392, 55.766243...</td>\n",
       "      <td>NaN</td>\n",
       "      <td>NaN</td>\n",
       "      <td>NaN</td>\n",
       "      <td>NaN</td>\n",
       "      <td>NaN</td>\n",
       "      <td>NaN</td>\n",
       "      <td>NaN</td>\n",
       "      <td>NaN</td>\n",
       "    </tr>\n",
       "    <tr>\n",
       "      <th>2</th>\n",
       "      <td>645622174</td>\n",
       "      <td>Здание</td>\n",
       "      <td>да</td>\n",
       "      <td>город Москва, Ленинградский проспект, дом 73А,...</td>\n",
       "      <td>Ленинградский проспект, дом 73А, строение 3</td>\n",
       "      <td>2133081</td>\n",
       "      <td>NaN</td>\n",
       "      <td>город Москва</td>\n",
       "      <td></td>\n",
       "      <td>муниципальный округ Сокол</td>\n",
       "      <td>...</td>\n",
       "      <td>Внесён в ГКН</td>\n",
       "      <td>{'coordinates': [[[37.5136462392231, 55.803629...</td>\n",
       "      <td>NaN</td>\n",
       "      <td>строение</td>\n",
       "      <td>NaN</td>\n",
       "      <td>NaN</td>\n",
       "      <td>NaN</td>\n",
       "      <td>NaN</td>\n",
       "      <td>NaN</td>\n",
       "      <td>NaN</td>\n",
       "    </tr>\n",
       "    <tr>\n",
       "      <th>3</th>\n",
       "      <td>645622205</td>\n",
       "      <td>Здание</td>\n",
       "      <td>да</td>\n",
       "      <td>Российская Федерация, город Москва, внутригоро...</td>\n",
       "      <td>улица Вострухина, дом 5А</td>\n",
       "      <td>2128644</td>\n",
       "      <td>Российская Федерация</td>\n",
       "      <td>город Москва</td>\n",
       "      <td>внутригородская территория муниципальный округ...</td>\n",
       "      <td>муниципальный округ Рязанский</td>\n",
       "      <td>...</td>\n",
       "      <td>Внесён в ГКН</td>\n",
       "      <td>{'coordinates': [[[37.797614164117, 55.7200933...</td>\n",
       "      <td>NaN</td>\n",
       "      <td>NaN</td>\n",
       "      <td>NaN</td>\n",
       "      <td>NaN</td>\n",
       "      <td>NaN</td>\n",
       "      <td>NaN</td>\n",
       "      <td>NaN</td>\n",
       "      <td>NaN</td>\n",
       "    </tr>\n",
       "    <tr>\n",
       "      <th>4</th>\n",
       "      <td>645622216</td>\n",
       "      <td>Здание</td>\n",
       "      <td>да</td>\n",
       "      <td>город Москва, улица Космонавта Волкова, дом 10...</td>\n",
       "      <td>улица Космонавта Волкова, дом 10, строение 1</td>\n",
       "      <td>3400130</td>\n",
       "      <td>NaN</td>\n",
       "      <td>город Москва</td>\n",
       "      <td></td>\n",
       "      <td>муниципальный округ Войковский</td>\n",
       "      <td>...</td>\n",
       "      <td>Внесён в ГКН</td>\n",
       "      <td>{'coordinates': [[[37.5139117566279, 55.815524...</td>\n",
       "      <td>NaN</td>\n",
       "      <td>строение</td>\n",
       "      <td>NaN</td>\n",
       "      <td>NaN</td>\n",
       "      <td>NaN</td>\n",
       "      <td>NaN</td>\n",
       "      <td>NaN</td>\n",
       "      <td>NaN</td>\n",
       "    </tr>\n",
       "  </tbody>\n",
       "</table>\n",
       "<p>5 rows × 42 columns</p>\n",
       "</div>"
      ],
      "text/plain": [
       "   global_id OBJ_TYPE OnTerritoryOfMoscow  \\\n",
       "0  645622141   Здание                  да   \n",
       "1  645622142   Здание                  да   \n",
       "2  645622174   Здание                  да   \n",
       "3  645622205   Здание                  да   \n",
       "4  645622216   Здание                  да   \n",
       "\n",
       "                                             ADDRESS  \\\n",
       "0  Российская Федерация, город Москва, внутригоро...   \n",
       "1  Российская Федерация, город Москва, внутригоро...   \n",
       "2  город Москва, Ленинградский проспект, дом 73А,...   \n",
       "3  Российская Федерация, город Москва, внутригоро...   \n",
       "4  город Москва, улица Космонавта Волкова, дом 10...   \n",
       "\n",
       "                                 SIMPLE_ADDRESS     UNOM  \\\n",
       "0                      Косинская улица, дом 26А  2102436   \n",
       "1                  Гороховский переулок, дом 21     5783   \n",
       "2   Ленинградский проспект, дом 73А, строение 3  2133081   \n",
       "3                      улица Вострухина, дом 5А  2128644   \n",
       "4  улица Космонавта Волкова, дом 10, строение 1  3400130   \n",
       "\n",
       "                     P0            P1  \\\n",
       "0  Российская Федерация  город Москва   \n",
       "1  Российская Федерация  город Москва   \n",
       "2                   NaN  город Москва   \n",
       "3  Российская Федерация  город Москва   \n",
       "4                   NaN  город Москва   \n",
       "\n",
       "                                                  P2  \\\n",
       "0  внутригородская территория муниципальный округ...   \n",
       "1  внутригородская территория муниципальный округ...   \n",
       "2                                                      \n",
       "3  внутригородская территория муниципальный округ...   \n",
       "4                                                      \n",
       "\n",
       "                               P5  ...        STATUS  \\\n",
       "0     муниципальный округ Вешняки  ...  Внесён в ГКН   \n",
       "1   муниципальный округ Басманный  ...  Внесён в ГКН   \n",
       "2       муниципальный округ Сокол  ...  Внесён в ГКН   \n",
       "3   муниципальный округ Рязанский  ...  Внесён в ГКН   \n",
       "4  муниципальный округ Войковский  ...  Внесён в ГКН   \n",
       "\n",
       "                                             geoData  \\\n",
       "0  {'coordinates': [[[37.8279504545784, 55.717660...   \n",
       "1  {'coordinates': [[[37.6682995208392, 55.766243...   \n",
       "2  {'coordinates': [[[37.5136462392231, 55.803629...   \n",
       "3  {'coordinates': [[[37.797614164117, 55.7200933...   \n",
       "4  {'coordinates': [[[37.5139117566279, 55.815524...   \n",
       "\n",
       "                                      geodata_center   L3_TYPE L2_TYPE   P4  \\\n",
       "0  {'coordinates': [37.8281893944955, 55.71748278...       NaN     NaN  NaN   \n",
       "1                                                NaN       NaN     NaN  NaN   \n",
       "2                                                NaN  строение     NaN  NaN   \n",
       "3                                                NaN       NaN     NaN  NaN   \n",
       "4                                                NaN  строение     NaN  NaN   \n",
       "\n",
       "    P6   P3  P90  P91  \n",
       "0  NaN  NaN  NaN  NaN  \n",
       "1  NaN  NaN  NaN  NaN  \n",
       "2  NaN  NaN  NaN  NaN  \n",
       "3  NaN  NaN  NaN  NaN  \n",
       "4  NaN  NaN  NaN  NaN  \n",
       "\n",
       "[5 rows x 42 columns]"
      ]
     },
     "execution_count": 4,
     "metadata": {},
     "output_type": "execute_result"
    }
   ],
   "source": [
    "df.head()"
   ]
  },
  {
   "cell_type": "code",
   "execution_count": 5,
   "metadata": {},
   "outputs": [
    {
     "data": {
      "text/plain": [
       "Index(['global_id', 'OBJ_TYPE', 'OnTerritoryOfMoscow', 'ADDRESS',\n",
       "       'SIMPLE_ADDRESS', 'UNOM', 'P0', 'P1', 'P2', 'P5', 'P7', 'L1_TYPE',\n",
       "       'L1_VALUE', 'L2_VALUE', 'L3_VALUE', 'L4_VALUE', 'L5_VALUE', 'ADM_AREA',\n",
       "       'DISTRICT', 'NREG', 'DREG', 'N_FIAS', 'D_FIAS', 'KAD_N', 'KAD_ZU',\n",
       "       'KLADR', 'TDOC', 'NDOC', 'DDOC', 'ADR_TYPE', 'VID', 'SOSTAD', 'STATUS',\n",
       "       'geoData', 'geodata_center', 'L3_TYPE', 'L2_TYPE', 'P4', 'P6', 'P3',\n",
       "       'P90', 'P91'],\n",
       "      dtype='object')"
      ]
     },
     "execution_count": 5,
     "metadata": {},
     "output_type": "execute_result"
    }
   ],
   "source": [
    "df.columns"
   ]
  },
  {
   "cell_type": "code",
   "execution_count": 20,
   "metadata": {},
   "outputs": [
    {
     "data": {
      "text/plain": [
       "Index(['UNOM', 'SIMPLE_ADDRESS', 'geoData', 'geodata_center'], dtype='object')"
      ]
     },
     "execution_count": 20,
     "metadata": {},
     "output_type": "execute_result"
    }
   ],
   "source": [
    "new_df = df[['UNOM', 'SIMPLE_ADDRESS', 'geoData', 'geodata_center']]\n",
    "new_df.columns"
   ]
  },
  {
   "cell_type": "code",
   "execution_count": 22,
   "metadata": {},
   "outputs": [
    {
     "data": {
      "text/plain": [
       "Index(['unom', 'address', 'pos_geojson', 'pos_geojson_center'], dtype='object')"
      ]
     },
     "execution_count": 22,
     "metadata": {},
     "output_type": "execute_result"
    }
   ],
   "source": [
    "new_df = new_df.rename({'UNOM': 'unom', 'SIMPLE_ADDRESS': 'address', 'geoData': 'pos_geojson', 'geodata_center': 'pos_geojson_center'}, axis=1)\n",
    "new_df.columns"
   ]
  },
  {
   "cell_type": "code",
   "execution_count": 23,
   "metadata": {},
   "outputs": [],
   "source": [
    "# new_df.loc[new_df['SIMPLE_ADDRESS'] == 'улица 800-летия Москвы, дом 5, корпус 1']\n",
    "\n",
    "# new_df = new_df.dropna()\n",
    "new_df['unom'] = new_df['unom'].astype(int)\n",
    "new_df['pos_geojson'] = new_df['pos_geojson'].astype(str)\n",
    "new_df['pos_geojson_center'] = new_df['pos_geojson_center'].astype(str)"
   ]
  },
  {
   "cell_type": "code",
   "execution_count": 24,
   "metadata": {},
   "outputs": [],
   "source": [
    "url = 'postgresql+psycopg2://<user>:<host>@<host>:<port>/<db>' "
   ]
  },
  {
   "cell_type": "code",
   "execution_count": 25,
   "metadata": {},
   "outputs": [],
   "source": [
    "engine = sqlalchemy.create_engine(url) "
   ]
  },
  {
   "cell_type": "code",
   "execution_count": 26,
   "metadata": {},
   "outputs": [
    {
     "name": "stderr",
     "output_type": "stream",
     "text": [
      "/Users/varlamov/techpotion/leaders2022/infra/addresses_to_database/env/lib/python3.9/site-packages/pandas/io/sql.py:1781: SAWarning: Did not recognize type 'geometry' of column 'center_gis'\n",
      "  self.meta.reflect(bind=self.connectable, only=[table_name], schema=schema)\n"
     ]
    },
    {
     "data": {
      "text/plain": [
       "401"
      ]
     },
     "execution_count": 26,
     "metadata": {},
     "output_type": "execute_result"
    }
   ],
   "source": [
    "new_df.to_sql('addresses', engine, index=False, if_exists='replace')"
   ]
  },
  {
   "cell_type": "code",
   "execution_count": 27,
   "metadata": {},
   "outputs": [
    {
     "data": {
      "text/plain": [
       "<sqlalchemy.engine.cursor.LegacyCursorResult at 0x21b25a070>"
      ]
     },
     "execution_count": 27,
     "metadata": {},
     "output_type": "execute_result"
    }
   ],
   "source": [
    "engine.execute('''\n",
    "BEGIN;\n",
    "\n",
    "DELETE FROM addresses WHERE \n",
    "\tpos_geojson = 'nan' AND pos_geojson_center = 'nan';\n",
    "\n",
    "ALTER TABLE IF EXISTS addresses\n",
    "\tADD COLUMN IF NOT EXISTS center_gis geometry;\n",
    "ALTER TABLE IF EXISTS addresses\n",
    "\tADD COLUMN IF NOT EXISTS center_x float;\n",
    "ALTER TABLE IF EXISTS addresses\n",
    "\tADD COLUMN IF NOT EXISTS center_y float;\n",
    "\n",
    "CREATE INDEX IF NOT EXISTS addr_idx ON addresses(address);\n",
    "CREATE UNIQUE INDEX IF NOT EXISTS addr_unom_idx ON addresses(unom);\n",
    "CREATE INDEX IF NOT EXISTS addr_x ON addresses(center_x);\n",
    "CREATE INDEX IF NOT EXISTS addr_y ON addresses(center_y);\n",
    "\n",
    "UPDATE addresses\n",
    "\tSET center_gis = ST_SetSRID(ST_Centroid(ST_GeomFromGeoJSON(pos_geojson)), 4326)\n",
    "\tWHERE pos_geojson_center = 'nan';\n",
    "\t\n",
    "UPDATE addresses\n",
    "\tSET center_gis = ST_SetSRID(ST_GeomFromGeoJSON(pos_geojson_center), 4326)\n",
    "\tWHERE pos_geojson_center != 'nan';\n",
    "\n",
    "UPDATE addresses\n",
    "\tSET \n",
    "\t\tcenter_x = ST_X(center_gis),\n",
    "\t\tcenter_y = ST_Y(center_gis);\n",
    "\n",
    "COMMIT;\n",
    "''')"
   ]
  }
 ],
 "metadata": {
  "kernelspec": {
   "display_name": "Python 3.9.13 ('env': venv)",
   "language": "python",
   "name": "python3"
  },
  "language_info": {
   "codemirror_mode": {
    "name": "ipython",
    "version": 3
   },
   "file_extension": ".py",
   "mimetype": "text/x-python",
   "name": "python",
   "nbconvert_exporter": "python",
   "pygments_lexer": "ipython3",
   "version": "3.9.13"
  },
  "orig_nbformat": 4,
  "vscode": {
   "interpreter": {
    "hash": "7b9940ce1239ef2946d83019e01ef3bf27146a77715fbd6c548e11d22b370e2c"
   }
  }
 },
 "nbformat": 4,
 "nbformat_minor": 2
}
